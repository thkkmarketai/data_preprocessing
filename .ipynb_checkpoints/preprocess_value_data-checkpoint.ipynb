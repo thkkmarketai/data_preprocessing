{
 "cells": [
  {
   "cell_type": "code",
   "execution_count": null,
   "id": "ca88614a",
   "metadata": {},
   "outputs": [],
   "source": []
  },
  {
   "cell_type": "markdown",
   "id": "aa96b8b1",
   "metadata": {},
   "source": [
    "## **値データの処理 / preprocess value data**"
   ]
  },
  {
   "cell_type": "markdown",
   "id": "6ea26b13",
   "metadata": {},
   "source": [
    "　一般に、欠損値・異常値・誤データ等のエラー値を修正、または削除することをデータ処理と呼んでいますが、今回はデータカテゴリー（株、FX、仮想通貨、金利）によってエラー値の定義が異なることに注意が必要です。例えば、株価は0より小さくなりませんが、金利はマイナスの値を取ることができます。FXの小数桁数は3〜5桁が一般的ですが、仮想通貨は更に細かい小数桁数を取ることがあります。"
   ]
  },
  {
   "cell_type": "markdown",
   "id": "67c70b18",
   "metadata": {},
   "source": [
    "### **実装する処理プロセス**\n",
    "\n",
    "　基本となるデータ処理プロセスは、以下の項目になります。"
   ]
  },
  {
   "cell_type": "markdown",
   "id": "a9dd95f4",
   "metadata": {},
   "source": [
    "1. **`日時チェック / date`**\n",
    "- datetimeデータを抽出\n",
    "2. **`null（1回目）/ null(first)`**\n",
    "- 値カラムが全てnanのrowを削除\n",
    "3. **`マイナス値 / negative value`**\n",
    "- 値カラムにマイナスが含まれるrowを削除\n",
    "4. **`ゼロ / zero value`**\n",
    "- 値カラムに０が含まれるrowを削除\n",
    "5. **`小数桁数 / dicimal`**\n",
    "- 値カラムの小数桁数を条件毎にround\n",
    "6. **`値 / value`**\n",
    "- 高値カラムに高値以外の値があるrowを削除\n",
    "- 安値カラムに安値以外の値があるrowを削除\n",
    "- 終値 - 始値が閾値を超えるrow数をカウント\n",
    "7. **`null（2回目）/ null(second)`**\n",
    "- 残るnullを検証し、修正or削除"
   ]
  },
  {
   "cell_type": "markdown",
   "id": "78a8f493",
   "metadata": {},
   "source": [
    "### **`1. 日時チェック / date check`**\n",
    "　これは全てのデータカテゴリーに共通する実装となります。同じdate rangeでも、API毎に取得できるデータrow数は異なることが多いため、"
   ]
  },
  {
   "cell_type": "code",
   "execution_count": null,
   "id": "34993c7c",
   "metadata": {},
   "outputs": [],
   "source": []
  },
  {
   "cell_type": "markdown",
   "id": "d59195a5",
   "metadata": {},
   "source": [
    "### **`2. null（1回目）/ null(first)`**"
   ]
  },
  {
   "cell_type": "code",
   "execution_count": null,
   "id": "64787fb1",
   "metadata": {},
   "outputs": [],
   "source": [
    "　この項目も全てのデータカテゴリーに共通する実装となります。"
   ]
  },
  {
   "cell_type": "markdown",
   "id": "29ccbd80",
   "metadata": {},
   "source": [
    "### **`3. マイナス値 / negative value`**"
   ]
  },
  {
   "cell_type": "code",
   "execution_count": null,
   "id": "492696a5",
   "metadata": {},
   "outputs": [],
   "source": []
  },
  {
   "cell_type": "markdown",
   "id": "95dd04a1",
   "metadata": {},
   "source": [
    "### **`4. ゼロ / zero value`**"
   ]
  },
  {
   "cell_type": "code",
   "execution_count": null,
   "id": "42d16480",
   "metadata": {},
   "outputs": [],
   "source": []
  },
  {
   "cell_type": "markdown",
   "id": "63022a45",
   "metadata": {},
   "source": [
    "### **`5. 小数桁数 / dicimal`**"
   ]
  },
  {
   "cell_type": "code",
   "execution_count": null,
   "id": "66620735",
   "metadata": {},
   "outputs": [],
   "source": []
  },
  {
   "cell_type": "markdown",
   "id": "7a372789",
   "metadata": {},
   "source": [
    "### **`6. 値 / value`**"
   ]
  },
  {
   "cell_type": "code",
   "execution_count": null,
   "id": "b294c525",
   "metadata": {},
   "outputs": [],
   "source": []
  },
  {
   "cell_type": "markdown",
   "id": "883ca9d6",
   "metadata": {},
   "source": [
    "### **`7. null（2回目）/ null(second)`**"
   ]
  },
  {
   "cell_type": "code",
   "execution_count": null,
   "id": "62f9d3ac",
   "metadata": {},
   "outputs": [],
   "source": []
  },
  {
   "cell_type": "markdown",
   "id": "878d15cd",
   "metadata": {},
   "source": [
    "## **処理データの差分 / data difference**"
   ]
  },
  {
   "cell_type": "markdown",
   "id": "e7083c01",
   "metadata": {},
   "source": []
  }
 ],
 "metadata": {
  "kernelspec": {
   "display_name": "Python 3 (ipykernel)",
   "language": "python",
   "name": "python3"
  },
  "language_info": {
   "codemirror_mode": {
    "name": "ipython",
    "version": 3
   },
   "file_extension": ".py",
   "mimetype": "text/x-python",
   "name": "python",
   "nbconvert_exporter": "python",
   "pygments_lexer": "ipython3",
   "version": "3.8.9"
  }
 },
 "nbformat": 4,
 "nbformat_minor": 5
}

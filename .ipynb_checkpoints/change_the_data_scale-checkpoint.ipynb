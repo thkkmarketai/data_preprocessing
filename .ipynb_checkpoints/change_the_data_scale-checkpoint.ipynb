{
 "cells": [
  {
   "cell_type": "code",
   "execution_count": null,
   "id": "70ebecae",
   "metadata": {},
   "outputs": [],
   "source": []
  },
  {
   "cell_type": "markdown",
   "id": "094e1e1d",
   "metadata": {},
   "source": [
    "## **データ尺度の変更 / change the data scale**"
   ]
  },
  {
   "cell_type": "code",
   "execution_count": null,
   "id": "3c750220",
   "metadata": {},
   "outputs": [],
   "source": [
    "- Min-Max scaling\n",
    " - []\n",
    "- 標準化\n",
    " - []\n",
    "- 正規化\n",
    " - []\n",
    "- ビニング\n",
    " - []\n",
    "- xx\n",
    " - []"
   ]
  }
 ],
 "metadata": {
  "kernelspec": {
   "display_name": "Python 3 (ipykernel)",
   "language": "python",
   "name": "python3"
  },
  "language_info": {
   "codemirror_mode": {
    "name": "ipython",
    "version": 3
   },
   "file_extension": ".py",
   "mimetype": "text/x-python",
   "name": "python",
   "nbconvert_exporter": "python",
   "pygments_lexer": "ipython3",
   "version": "3.8.9"
  }
 },
 "nbformat": 4,
 "nbformat_minor": 5
}
